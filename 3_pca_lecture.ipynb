{
 "cells": [
  {
   "cell_type": "code",
   "execution_count": 1,
   "metadata": {
    "colab": {},
    "colab_type": "code",
    "id": "_eFEAB9O9PFd"
   },
   "outputs": [],
   "source": [
    "data_dir = './data/'\n",
    "\n",
    "import numpy as np\n",
    "import matplotlib.pyplot as plt\n",
    "import pandas as pd\n",
    "from sklearn.decomposition import PCA\n"
   ]
  },
  {
   "cell_type": "code",
   "execution_count": 2,
   "metadata": {
    "colab": {
     "base_uri": "https://localhost:8080/",
     "height": 336
    },
    "colab_type": "code",
    "executionInfo": {
     "elapsed": 888,
     "status": "ok",
     "timestamp": 1565665958123,
     "user": {
      "displayName": "竜馬備瀬",
      "photoUrl": "",
      "userId": "17932567482837919211"
     },
     "user_tz": -540
    },
    "id": "yyuvAvn19lCV",
    "outputId": "1e55455f-80a1-42c5-e5b8-818d2b3b7090"
   },
   "outputs": [
    {
     "name": "stdout",
     "output_type": "stream",
     "text": [
      "[0.72770452 0.23030523]\n",
      "[[ 0.52237162 -0.26335492  0.58125401  0.56561105]\n",
      " [ 0.37231836  0.92555649  0.02109478  0.06541577]]\n"
     ]
    },
    {
     "data": {
      "image/png": "[encoded data removed]",
      "text/plain": [
       "<Figure size 432x288 with 1 Axes>"
      ]
     },
     "metadata": {
      "needs_background": "light"
     },
     "output_type": "display_data"
    }
   ],
   "source": [
    "# まず具体例\n",
    "iris = pd.read_csv(data_dir+'iris.csv') # csvの読み込み\n",
    "X = iris.drop('class', axis=1) # Xは正解クラスを除く4次元の情報\n",
    "Y = iris['class'] # Yは正解クラス\n",
    "\n",
    "X_scaled = (X-X.mean())/X.std() # Xの正規化\n",
    "\n",
    "# 主成分分析(PCA)\n",
    "pca = PCA(n_components=2) # PCAのパラメータをセット(2次元)\n",
    "pca.fit(X_scaled) # PCAでXを2次元にするルール作り\n",
    "reduced_iris = pca.fit_transform(X_scaled) # 2次元にしたXをゲット\n",
    "\n",
    "# 2次元に圧縮したXをプロット\n",
    "colors = ['blue', 'red', 'Yellow'] # グラフの色\n",
    "uniqueY = pd.unique(Y) # 重複したクラスを削除（クラスのリストを取得）\n",
    "for i in range(len(uniqueY)):\n",
    "    Yi = uniqueY[i]\n",
    "    color = colors[i]\n",
    "    plt.scatter(reduced_iris[np.where(Y == Yi), 0],\n",
    "                             reduced_iris[np.where(Y == Yi), 1],c=color) # Xをプロット\n",
    "plt.xlabel('PC 1') # X軸のラベル\n",
    "plt.ylabel('PC 2') # Y軸のラベル\n",
    "\n",
    "\n",
    "print(pca.explained_variance_ratio_) # 2次元の各主成分の「寄与率」\n",
    "\n",
    "print(pca.components_) # 2次元の各主成分の「中身」\n"
   ]
  },
  {
   "cell_type": "code",
   "execution_count": 3,
   "metadata": {
    "colab": {
     "base_uri": "https://localhost:8080/",
     "height": 322
    },
    "colab_type": "code",
    "executionInfo": {
     "elapsed": 1027,
     "status": "ok",
     "timestamp": 1565666079968,
     "user": {
      "displayName": "竜馬備瀬",
      "photoUrl": "",
      "userId": "17932567482837919211"
     },
     "user_tz": -540
    },
    "id": "umzymW5c92FR",
    "outputId": "99d25e17-b2ad-44d4-8a48-cbb60f2ab503"
   },
   "outputs": [
    {
     "name": "stdout",
     "output_type": "stream",
     "text": [
      "[[0.68569351 1.27368233]\n",
      " [1.27368233 3.11317942]]\n"
     ]
    },
    {
     "data": {
      "text/plain": [
       "<matplotlib.collections.PathCollection at 0x22584472ec8>"
      ]
     },
     "execution_count": 3,
     "metadata": {},
     "output_type": "execute_result"
    },
    {
     "data": {
      "image/png": "[encoded data removed]",
      "text/plain": [
       "<Figure size 432x288 with 1 Axes>"
      ]
     },
     "metadata": {
      "needs_background": "light"
     },
     "output_type": "display_data"
    }
   ],
   "source": [
    "# covariance between sepal_length and petal_length in iris data\n",
    "\n",
    "sepal_length = np.array(iris['sepal length'])\n",
    "petal_length = np.array(iris['petal length'])\n",
    "CC = np.cov(sepal_length,petal_length) # 共分散行列\n",
    "print(CC)\n",
    "plt.scatter(sepal_length,petal_length) # 散布図をプロット\n"
   ]
  },
  {
   "cell_type": "code",
   "execution_count": 4,
   "metadata": {
    "colab": {
     "base_uri": "https://localhost:8080/",
     "height": 140
    },
    "colab_type": "code",
    "executionInfo": {
     "elapsed": 607,
     "status": "ok",
     "timestamp": 1565666095014,
     "user": {
      "displayName": "竜馬備瀬",
      "photoUrl": "",
      "userId": "17932567482837919211"
     },
     "user_tz": -540
    },
    "id": "peVvu6O1-HWx",
    "outputId": "cfc8a3a9-8b6d-424c-b9e0-89584e447902"
   },
   "outputs": [
    {
     "name": "stdout",
     "output_type": "stream",
     "text": [
      "[ 4. -1.]\n",
      "[[ 0.83205029 -0.70710678]\n",
      " [ 0.5547002   0.70710678]]\n",
      "[[3.32820118]\n",
      " [2.21880078]]\n",
      "[[3.32820118]\n",
      " [2.21880078]]\n"
     ]
    }
   ],
   "source": [
    "# 固有値と固有ベクトル\n",
    "A = np.matrix([[2,3], [2,1]])\n",
    "\n",
    "from numpy import linalg as LA\n",
    "\n",
    "# 固有値と固有ベクトルを算出\n",
    "(eigenvalues, eigenvectors) = LA.eig(A)\n",
    "\n",
    "print(eigenvalues) # 固有値\n",
    "print(eigenvectors) # 固有ベクトル\n",
    "\n",
    "# 本当に合ってるか確認\n",
    "e_vec1 = eigenvectors[:,0] # 第一固有ベクトル\n",
    "e_val1 = eigenvalues[0] # 第一固有値\n",
    "\n",
    "# 固有ベクトルの条件を満たしている(Ae = λe)\n",
    "print(np.dot(A, e_vec1))\n",
    "print(e_val1*e_vec1)"
   ]
  },
  {
   "cell_type": "code",
   "execution_count": 5,
   "metadata": {
    "colab": {},
    "colab_type": "code",
    "id": "KfP6UYG7-LjL"
   },
   "outputs": [],
   "source": [
    "# sepal_length　と petal_length の共分散行列の固有値\n",
    "# Read iris dataset\n",
    "iris = pd.read_csv(data_dir+'iris.csv')\n",
    "X = iris.drop(['sepal width','petal width','class'], axis=1)\n",
    "\n",
    "# Normalize the data\n",
    "# 正規化なし\n",
    "#X_scaled = (X-X.mean())/X.std()\n",
    "X_scaled = (X-X.mean())\n",
    "\n",
    "# Transform input data into an np.array\n",
    "Y = np.array(X_scaled)\n"
   ]
  },
  {
   "cell_type": "code",
   "execution_count": 6,
   "metadata": {
    "colab": {
     "base_uri": "https://localhost:8080/",
     "height": 87
    },
    "colab_type": "code",
    "executionInfo": {
     "elapsed": 645,
     "status": "ok",
     "timestamp": 1565666146012,
     "user": {
      "displayName": "竜馬備瀬",
      "photoUrl": "",
      "userId": "17932567482837919211"
     },
     "user_tz": -540
    },
    "id": "7vzgPC6f-TLn",
    "outputId": "073ffdda-eb6e-4601-ca8c-37783b25bdf0"
   },
   "outputs": [
    {
     "name": "stdout",
     "output_type": "stream",
     "text": [
      "Explained variance ratio:  [0.03686636 0.96313364]\n",
      "the 2 principal vectors: \n",
      " [[-0.91920275  0.39378459]\n",
      " [-0.39378459 -0.91920275]]\n"
     ]
    }
   ],
   "source": [
    "# Compute the covariance matrix\n",
    "cov_matrix = np.cov(Y.transpose())\n",
    "\n",
    "# Compute the eigen values and eigen vectors\n",
    "(l,V) = np.linalg.eig(cov_matrix)\n",
    "\n",
    "print(\"Explained variance ratio: \", l/l.sum())\n",
    "print(\"the 2 principal vectors: \\n\", V.transpose())\n"
   ]
  },
  {
   "cell_type": "code",
   "execution_count": 7,
   "metadata": {
    "colab": {
     "base_uri": "https://localhost:8080/",
     "height": 70
    },
    "colab_type": "code",
    "executionInfo": {
     "elapsed": 593,
     "status": "ok",
     "timestamp": 1565666161300,
     "user": {
      "displayName": "竜馬備瀬",
      "photoUrl": "",
      "userId": "17932567482837919211"
     },
     "user_tz": -540
    },
    "id": "dl62_x4s-aOj",
    "outputId": "a5a0b5de-cd67-4587-a22e-fb77a2737613"
   },
   "outputs": [
    {
     "name": "stdout",
     "output_type": "stream",
     "text": [
      "[0.96313364 0.03686636]\n",
      "[[ 0.39378459  0.91920275]\n",
      " [-0.91920275  0.39378459]]\n"
     ]
    }
   ],
   "source": [
    "# PCA\n",
    "pca = PCA(n_components=2)\n",
    "pca.fit(X_scaled)\n",
    "\n",
    "# 先程の結果とPCA関数による結果を比較\n",
    "print(pca.explained_variance_ratio_) # 2次元の各主成分の「寄与率」\n",
    "print(pca.components_) # 2次元の各主成分の「中身」\n",
    "\n",
    "A = pca.components_\n"
   ]
  },
  {
   "cell_type": "code",
   "execution_count": 8,
   "metadata": {
    "colab": {
     "base_uri": "https://localhost:8080/",
     "height": 286
    },
    "colab_type": "code",
    "executionInfo": {
     "elapsed": 712,
     "status": "ok",
     "timestamp": 1565666179105,
     "user": {
      "displayName": "竜馬備瀬",
      "photoUrl": "",
      "userId": "17932567482837919211"
     },
     "user_tz": -540
    },
    "id": "1HpaXTv9-btX",
    "outputId": "f1eb6f88-5c33-4b6c-e4c5-5b567c5e7b3a"
   },
   "outputs": [
    {
     "data": {
      "text/plain": [
       "(-4, 4)"
      ]
     },
     "execution_count": 8,
     "metadata": {},
     "output_type": "execute_result"
    },
    {
     "data": {
      "image/png": "[encoded data removed]",
      "text/plain": [
       "<Figure size 432x288 with 1 Axes>"
      ]
     },
     "metadata": {
      "needs_background": "light"
     },
     "output_type": "display_data"
    }
   ],
   "source": [
    "# 第一主成分\n",
    "a = A[0][1]/A[0][0]\n",
    "xx = [min(X_scaled['sepal length']) + 0.01*(max(X_scaled['sepal length'])\n",
    "-min(X_scaled['sepal length']))*i for i in range(101)]\n",
    "yy = [xx[i]*a for i in range(len(xx))]\n",
    "# 第二主成分\n",
    "b = A[1][1]/A[1][0]\n",
    "xx2 = [min(X_scaled['sepal length']) + 0.01*(max(X_scaled['sepal length'])\n",
    "-min(X_scaled['sepal length']))*i for i in range(101)]\n",
    "yy2 = [xx2[i]*b for i in range(len(xx))]\n",
    "# 表示\n",
    "plt.scatter(X_scaled['sepal length'],X_scaled['petal length'])\n",
    "plt.scatter(xx,yy)\n",
    "plt.scatter(xx2,yy2)\n",
    "plt.axis('scaled')\n",
    "plt.xlim([-4,4])\n",
    "plt.ylim([-4,4])\n"
   ]
  },
  {
   "cell_type": "code",
   "execution_count": 9,
   "metadata": {
    "colab": {
     "base_uri": "https://localhost:8080/",
     "height": 87
    },
    "colab_type": "code",
    "executionInfo": {
     "elapsed": 764,
     "status": "ok",
     "timestamp": 1565666198232,
     "user": {
      "displayName": "竜馬備瀬",
      "photoUrl": "",
      "userId": "17932567482837919211"
     },
     "user_tz": -540
    },
    "id": "10dDPIw--jH3",
    "outputId": "2bc49567-c9f6-4dfa-8876-dc2d04df5712"
   },
   "outputs": [
    {
     "name": "stdout",
     "output_type": "stream",
     "text": [
      "Explained variance ratio:  [0.93587708 0.06412292]\n",
      "the 2 principal vectors: \n",
      " [[ 0.70710678  0.70710678]\n",
      " [-0.70710678  0.70710678]]\n"
     ]
    }
   ],
   "source": [
    "\n",
    "##### 正規化あり\n",
    "X_scaled = (X-X.mean())/X.std()\n",
    "\n",
    "# Transform input data into an np.array\n",
    "Y = np.array(X_scaled)\n",
    "\n",
    "# Compute the covariance matrix\n",
    "cov_matrix = np.cov(Y.transpose())\n",
    "\n",
    "# Compute the eigen values and eigen vectors\n",
    "(l,V) = np.linalg.eig(cov_matrix)\n",
    "\n",
    "print(\"Explained variance ratio: \", l/l.sum())\n",
    "print(\"the 2 principal vectors: \\n\", V.transpose())\n"
   ]
  },
  {
   "cell_type": "code",
   "execution_count": 10,
   "metadata": {
    "colab": {
     "base_uri": "https://localhost:8080/",
     "height": 70
    },
    "colab_type": "code",
    "executionInfo": {
     "elapsed": 601,
     "status": "ok",
     "timestamp": 1565666213796,
     "user": {
      "displayName": "竜馬備瀬",
      "photoUrl": "",
      "userId": "17932567482837919211"
     },
     "user_tz": -540
    },
    "id": "OHvNEjiz-nCp",
    "outputId": "332dc295-7844-49a1-9da5-99599995ba5e"
   },
   "outputs": [
    {
     "name": "stdout",
     "output_type": "stream",
     "text": [
      "[0.93587708 0.06412292]\n",
      "[[ 0.70710678  0.70710678]\n",
      " [-0.70710678  0.70710678]]\n"
     ]
    }
   ],
   "source": [
    "# PCA\n",
    "pca = PCA(n_components=2)\n",
    "pca.fit(X_scaled)\n",
    "\n",
    "# 先程の結果とPCA関数による結果を比較\n",
    "print(pca.explained_variance_ratio_) # 2次元の各主成分の「寄与率」\n",
    "print(pca.components_) # 2次元の各主成分の「中身」\n",
    "\n",
    "A = pca.components_\n"
   ]
  },
  {
   "cell_type": "code",
   "execution_count": 11,
   "metadata": {
    "colab": {
     "base_uri": "https://localhost:8080/",
     "height": 286
    },
    "colab_type": "code",
    "executionInfo": {
     "elapsed": 1002,
     "status": "ok",
     "timestamp": 1565666229573,
     "user": {
      "displayName": "竜馬備瀬",
      "photoUrl": "",
      "userId": "17932567482837919211"
     },
     "user_tz": -540
    },
    "id": "vUCi5gkV-oUb",
    "outputId": "2bf1d230-6624-4c80-9193-109802a4f927"
   },
   "outputs": [
    {
     "data": {
      "text/plain": [
       "(-4, 4)"
      ]
     },
     "execution_count": 11,
     "metadata": {},
     "output_type": "execute_result"
    },
    {
     "data": {
      "image/png": "[encoded data removed]",
      "text/plain": [
       "<Figure size 432x288 with 1 Axes>"
      ]
     },
     "metadata": {
      "needs_background": "light"
     },
     "output_type": "display_data"
    }
   ],
   "source": [
    "# 第一主成分\n",
    "a = A[0][1]/A[0][0]\n",
    "xx = [min(X_scaled['sepal length']) + 0.01*(max(X_scaled['sepal length'])\n",
    "-min(X_scaled['sepal length']))*i for i in range(101)]\n",
    "yy = [xx[i]*a for i in range(len(xx))]\n",
    "# 第二主成分\n",
    "b = A[1][1]/A[1][0]\n",
    "xx2 = [min(X_scaled['sepal length']) + 0.01*(max(X_scaled['sepal length'])\n",
    "-min(X_scaled['sepal length']))*i for i in range(101)]\n",
    "yy2 = [xx2[i]*b for i in range(len(xx))]\n",
    "# 表示\n",
    "plt.scatter(X_scaled['sepal length'],X_scaled['petal length'])\n",
    "plt.scatter(xx,yy)\n",
    "plt.scatter(xx2,yy2)\n",
    "plt.axis('scaled')\n",
    "plt.xlim([-4,4])\n",
    "plt.ylim([-4,4])"
   ]
  },
  {
   "cell_type": "code",
   "execution_count": null,
   "metadata": {},
   "outputs": [],
   "source": []
  }
 ],
 "metadata": {
  "colab": {
   "name": "PCA.ipynb",
   "provenance": [],
   "version": "0.3.2"
  },
  "kernelspec": {
   "display_name": "Python 3",
   "language": "python",
   "name": "python3"
  },
  "language_info": {
   "codemirror_mode": {
    "name": "ipython",
    "version": 3
   },
   "file_extension": ".py",
   "mimetype": "text/x-python",
   "name": "python",
   "nbconvert_exporter": "python",
   "pygments_lexer": "ipython3",
   "version": "3.7.6"
  }
 },
 "nbformat": 4,
 "nbformat_minor": 4
}
