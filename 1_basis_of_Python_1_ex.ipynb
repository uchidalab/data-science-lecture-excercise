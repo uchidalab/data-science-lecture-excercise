{
 "cells": [
  {
   "cell_type": "code",
   "execution_count": 1,
   "metadata": {
    "colab": {
     "base_uri": "https://localhost:8080/"
    },
    "executionInfo": {
     "elapsed": 762,
     "status": "ok",
     "timestamp": 1604966318707,
     "user": {
      "displayName": "竜馬備瀬",
      "photoUrl": "https://lh3.googleusercontent.com/a-/AOh14GiVS6RfbfsbY9_r40m7AMT--HeAX0wgBuQ4G-Y1xQ=s64",
      "userId": "17932567482837919211"
     },
     "user_tz": -540
    },
    "id": "8uRrA2LgDpDs",
    "outputId": "44516db8-79ac-48df-b10d-45c0a2a12b05"
   },
   "outputs": [
    {
     "name": "stdout",
     "output_type": "stream",
     "text": [
      "1\n",
      "3\n",
      "6\n",
      "10\n",
      "15\n",
      "21\n",
      "28\n",
      "36\n",
      "45\n",
      "55\n",
      "55\n"
     ]
    }
   ],
   "source": [
    "####################################\n",
    "# 演習1\n",
    "#1から10まで順に足して行くプログラムをforを使って書いてみよう。また、それぞれの計算結果をprint文で出力してみよう\n",
    "# ヒント）1+2, 1+2+3,…,\n",
    "#          1+2+3+4+5+6+7+8+9+10\n",
    "#上記の問題で最後の1～10まで全部足した結果だけをPrint文で出力してみよう\n",
    "\n",
    "x = 0\n",
    "for i in range(1,10+1):\n",
    "    x = x + i\n",
    "    print( x )\n",
    "\n",
    "x = 0\n",
    "for i in range(1,10+1):\n",
    "    x = x + i\n",
    "print( x )"
   ]
  },
  {
   "cell_type": "code",
   "execution_count": 2,
   "metadata": {
    "colab": {
     "base_uri": "https://localhost:8080/"
    },
    "executionInfo": {
     "elapsed": 603,
     "status": "ok",
     "timestamp": 1604966371204,
     "user": {
      "displayName": "竜馬備瀬",
      "photoUrl": "https://lh3.googleusercontent.com/a-/AOh14GiVS6RfbfsbY9_r40m7AMT--HeAX0wgBuQ4G-Y1xQ=s64",
      "userId": "17932567482837919211"
     },
     "user_tz": -540
    },
    "id": "uFCozXshlV4V",
    "outputId": "f147f4c6-62d9-4821-af5c-1c327daccd93"
   },
   "outputs": [
    {
     "name": "stdout",
     "output_type": "stream",
     "text": [
      "1:BMI:21.0\n",
      "2:BMI:21.0\n",
      "3:BMI:28.0\n",
      "4:BMI:19.0\n",
      "5:BMI:19.0\n",
      "6:BMI:26.0\n",
      "7:BMI:22.0\n",
      "8:BMI:21.0\n",
      "9:BMI:23.0\n",
      "10:BMI:16.0\n",
      "   Unnamed: 0  Sex     Ht    Wt   BMI\n",
      "0           1    1  195.9  78.9  21.0\n",
      "1           2    1  189.7  74.4  21.0\n",
      "2           3    1  177.8  88.1  28.0\n",
      "3           4    1  185.0  64.9  19.0\n",
      "4           5    1  184.6  64.6  19.0\n",
      "5           6    1  174.0  79.7  26.0\n",
      "6           7    1  186.2  75.2  22.0\n",
      "7           8    1  173.8  62.3  21.0\n",
      "8           9    1  171.4  66.5  23.0\n",
      "9          10    1  179.9  52.9  16.0\n"
     ]
    }
   ],
   "source": [
    "####################################\n",
    "# 演習2\n",
    "#“height_weight.csv”ファイルを読み込んで、各行のBMIを計算して、BMIをリストに追加しよう\n",
    "#“BMI.csv”というファイルを作成して、以下の情報を書き込もう(height_weight.csvの項目を1つ追加した情報の書き込み)\n",
    "#[‘ID’,’Sex’,’Ht’,’Wt’,’BMI’]\n",
    "import pandas as pd\n",
    "data_dir = './data/'\n",
    "data = pd.read_csv(data_dir+'height_weight_small.csv') # csvの読み込み\n",
    "\n",
    "data2 = data.copy()\n",
    "data2['BMI'] = 0 # 初期化\n",
    "for i in range(data.shape[0]):\n",
    "    height = data.iloc[i].Ht/100 # cm単位をm単位に変換\n",
    "    weight = data.iloc[i].Wt\n",
    "    BMI=round(weight/(height*height)) # BMIの計算\n",
    "    print(\"{}:BMI:{}\".format(data.iloc[i,0],BMI))\n",
    "    data2.iloc[i,4] = BMI # 4列目にBMIの値を追加\n",
    "print(data2)\n",
    "# 書き込み\n",
    "data2.to_csv(data_dir+'height_weight_small2.csv')"
   ]
  },
  {
   "cell_type": "code",
   "execution_count": 3,
   "metadata": {
    "colab": {
     "base_uri": "https://localhost:8080/"
    },
    "executionInfo": {
     "elapsed": 575,
     "status": "ok",
     "timestamp": 1604966373742,
     "user": {
      "displayName": "竜馬備瀬",
      "photoUrl": "https://lh3.googleusercontent.com/a-/AOh14GiVS6RfbfsbY9_r40m7AMT--HeAX0wgBuQ4G-Y1xQ=s64",
      "userId": "17932567482837919211"
     },
     "user_tz": -540
    },
    "id": "HQtovJJVUB1g",
    "outputId": "f81150ac-00d2-4f76-8698-25e6fb0cdedc"
   },
   "outputs": [
    {
     "name": "stdout",
     "output_type": "stream",
     "text": [
      "標準\n",
      "標準\n",
      "肥満気味\n",
      "標準\n",
      "標準\n",
      "肥満気味\n",
      "標準\n",
      "標準\n",
      "標準\n",
      "やせ型\n"
     ]
    }
   ],
   "source": [
    "####################################\n",
    "# 演習3\n",
    "#“height_weight.csv”ファイルを読み込んで、各行のBMIを計算して、BMIの値に応じて次のように表示するプログラムを作成しよう\n",
    "#18.5未満の場合、「やせ型」と表示\n",
    "#18.5以上25未満の場合、「標準」と表示\n",
    "#25以上の場合、「肥満気味」と表示\n",
    "\n",
    "import pandas as pd\n",
    "data_dir = './data/'\n",
    "data = pd.read_csv(data_dir+'height_weight_small.csv') # csvの読み込み\n",
    "data2 = data.copy()\n",
    "data2['BodyShape'] = 0 # 初期化\n",
    "for i in range(data.shape[0]):\n",
    "    height = data.iloc[i].Ht/100 # cm単位をm単位に変換\n",
    "    weight = data.iloc[i].Wt\n",
    "    BMI=round(weight/(height*height)) # BMIを計算\n",
    "    state = \"\"\n",
    "    if BMI<18.5: # \n",
    "        print( \"やせ型\" )\n",
    "        state = \"slender\"\n",
    "    elif BMI>=18.5 and BMI<25: # \n",
    "        print( \"標準\" )\n",
    "        state = \"normal\"\n",
    "    elif BMI>=25: # \n",
    "        print( \"肥満気味\" )\n",
    "        state = \"fat\"\n",
    "    data2.iloc[i,4] = state # 4列目にBMIによる診断結果を追加\n",
    "\n",
    "# 書き込み\n",
    "data2.to_csv(data_dir+'height_weight_small2.csv')"
   ]
  },
  {
   "cell_type": "code",
   "execution_count": 4,
   "metadata": {
    "executionInfo": {
     "elapsed": 653,
     "status": "ok",
     "timestamp": 1604966378331,
     "user": {
      "displayName": "竜馬備瀬",
      "photoUrl": "https://lh3.googleusercontent.com/a-/AOh14GiVS6RfbfsbY9_r40m7AMT--HeAX0wgBuQ4G-Y1xQ=s64",
      "userId": "17932567482837919211"
     },
     "user_tz": -540
    },
    "id": "FmvfZNb2UL7g"
   },
   "outputs": [],
   "source": [
    "####################################\n",
    "# 演習4\n",
    "# BMIを計算する関数の定義\n",
    "def BMI(height,weight):\n",
    "    ''' The function BMI computes the Body Mass \n",
    "    Index of the input heigh and weight feature '''\n",
    "    return weight/(height**2)"
   ]
  },
  {
   "cell_type": "code",
   "execution_count": 5,
   "metadata": {
    "colab": {
     "base_uri": "https://localhost:8080/"
    },
    "executionInfo": {
     "elapsed": 596,
     "status": "ok",
     "timestamp": 1604966387978,
     "user": {
      "displayName": "竜馬備瀬",
      "photoUrl": "https://lh3.googleusercontent.com/a-/AOh14GiVS6RfbfsbY9_r40m7AMT--HeAX0wgBuQ4G-Y1xQ=s64",
      "userId": "17932567482837919211"
     },
     "user_tz": -540
    },
    "id": "7IwL-73fHOag",
    "outputId": "7a537e92-b870-438b-bad2-8233aed62ef2"
   },
   "outputs": [
    {
     "name": "stdout",
     "output_type": "stream",
     "text": [
      "標準\n",
      "標準\n",
      "肥満気味\n",
      "標準\n",
      "標準\n",
      "肥満気味\n",
      "標準\n",
      "標準\n",
      "標準\n",
      "やせ型\n"
     ]
    }
   ],
   "source": [
    "import pandas as pd\n",
    "data_dir = './data/'\n",
    "data = pd.read_csv(data_dir+'height_weight_small.csv')\n",
    "data2 = data\n",
    "data2['BodyShape'] = 0 # 初期化\n",
    "for i in range(data.shape[0]):\n",
    "    height = data.iloc[i].Ht/100 # cm単位をm単位に変換\n",
    "    weight = data.iloc[i].Wt \n",
    "    bmi=BMI(height,weight) # BMIの計算\n",
    "    state = \"\"\n",
    "    if bmi<18.5: # 20歳以上か？\n",
    "        print( \"やせ型\" )\n",
    "        state = \"slender\"\n",
    "    elif bmi>=18.5 and bmi<25: # でなければ10歳以上か？\n",
    "        print( \"標準\" )\n",
    "        state = \"normal\"\n",
    "    elif bmi>=25: # 上記以外か？\n",
    "        print( \"肥満気味\" )\n",
    "        state = \"fat\"\n",
    "    data2.iloc[i,4] = state # 4列目にBMIによる診断結果を追加\n",
    "\n",
    "# 書き込み\n",
    "data2.to_csv(data_dir+'height_weight_small3.csv')"
   ]
  },
  {
   "cell_type": "code",
   "execution_count": 6,
   "metadata": {
    "executionInfo": {
     "elapsed": 606,
     "status": "ok",
     "timestamp": 1604966393144,
     "user": {
      "displayName": "竜馬備瀬",
      "photoUrl": "https://lh3.googleusercontent.com/a-/AOh14GiVS6RfbfsbY9_r40m7AMT--HeAX0wgBuQ4G-Y1xQ=s64",
      "userId": "17932567482837919211"
     },
     "user_tz": -540
    },
    "id": "RxEcnCIBPlL-"
   },
   "outputs": [],
   "source": [
    "####################################\n",
    "# 演習4\n",
    "# BMIを計算する関数の定義: if 文まで含めて関数化\n",
    "def BMI(height,weight):\n",
    "    ''' The function BMI computes the Body Mass \n",
    "    Index of the input heigh and weight feature '''\n",
    "    bmi = weight/(height**2)\n",
    "    if bmi<18.5: # 20歳以上か？\n",
    "        print( \"やせ型\" )\n",
    "        state = \"slender\"\n",
    "    elif bmi>=18.5 and bmi<25: # でなければ10歳以上か？\n",
    "        print( \"標準\" )\n",
    "        state = \"normal\"\n",
    "    elif bmi>=25: # 上記以外か？\n",
    "        print( \"肥満気味\" )\n",
    "        state = \"fat\"\n",
    "    return bmi,state"
   ]
  },
  {
   "cell_type": "code",
   "execution_count": 7,
   "metadata": {
    "colab": {
     "base_uri": "https://localhost:8080/"
    },
    "executionInfo": {
     "elapsed": 604,
     "status": "ok",
     "timestamp": 1604966399783,
     "user": {
      "displayName": "竜馬備瀬",
      "photoUrl": "https://lh3.googleusercontent.com/a-/AOh14GiVS6RfbfsbY9_r40m7AMT--HeAX0wgBuQ4G-Y1xQ=s64",
      "userId": "17932567482837919211"
     },
     "user_tz": -540
    },
    "id": "-g3lP3soP02X",
    "outputId": "57a20601-5435-45cb-9feb-d1014ad3752f"
   },
   "outputs": [
    {
     "name": "stdout",
     "output_type": "stream",
     "text": [
      "標準\n",
      "標準\n",
      "肥満気味\n",
      "標準\n",
      "標準\n",
      "肥満気味\n",
      "標準\n",
      "標準\n",
      "標準\n",
      "やせ型\n"
     ]
    }
   ],
   "source": [
    "import pandas as pd\n",
    "data_dir = './data/'\n",
    "data = pd.read_csv(data_dir+'height_weight_small.csv')\n",
    "data2 = data\n",
    "data2['BodyShape'] = 0 # 初期化\n",
    "for i in range(data.shape[0]):\n",
    "    height = data.iloc[i].Ht/100 # cm単位をm単位に変換\n",
    "    weight = data.iloc[i].Wt\n",
    "    result=BMI(height,weight) # BMIの計算結果と診断結果を同時に出力\n",
    "    bmi = result[0] # BMI\n",
    "    state = result[1] # 診断結果\n",
    "    data2.iloc[i,4] = state # 4列目にBMIによる診断結果を追加\n",
    "\n",
    "# 書き込み\n",
    "#data2.to_csv(data_dir+'height_weight_small3.csv')"
   ]
  },
  {
   "cell_type": "code",
   "execution_count": null,
   "metadata": {},
   "outputs": [],
   "source": []
  }
 ],
 "metadata": {
  "colab": {
   "collapsed_sections": [],
   "name": "basis_of_Python_1_excercise.ipynb",
   "provenance": []
  },
  "kernelspec": {
   "display_name": "Python 3",
   "language": "python",
   "name": "python3"
  },
  "language_info": {
   "codemirror_mode": {
    "name": "ipython",
    "version": 3
   },
   "file_extension": ".py",
   "mimetype": "text/x-python",
   "name": "python",
   "nbconvert_exporter": "python",
   "pygments_lexer": "ipython3",
   "version": "3.7.6"
  }
 },
 "nbformat": 4,
 "nbformat_minor": 4
}
