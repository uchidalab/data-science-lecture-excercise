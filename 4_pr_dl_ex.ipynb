{
  "nbformat": 4,
  "nbformat_minor": 2,
  "metadata": {
    "colab": {
      "name": "MNIST_ex.ipynb",
      "provenance": [],
      "collapsed_sections": []
    },
    "kernelspec": {
      "name": "python3",
      "display_name": "Python 3"
    }
  },
  "cells": [
    {
      "cell_type": "code",
      "execution_count": null,
      "source": [
        "import keras\n",
        "import tensorflow as tf\n",
        "from keras.datasets import mnist\n",
        "from keras.models import Sequential\n",
        "from keras.layers import Dense, Dropout, Flatten\n",
        "from keras.layers import Conv2D, MaxPooling2D\n",
        "from keras import backend as K\n",
        "batch_size = 128\n",
        "epochs = 8 # 訓練データを何回繰り返して学習させるのか\n",
        "\n",
        "#学習させる画像のサイズ\n",
        "img_rows, img_cols = 28, 28\n",
        "\n",
        "# 学習データとテストデータに分割したデータを読み出す\n",
        "(x_train, y_train), (x_test, y_test) = mnist.load_data()\n",
        "\n",
        "# backendがTensorflowとTheanoで配列のshapeが異なるために2パターン記述\n",
        "# ニューラルネットワークに入力できる形に変換\n",
        "print(K.image_data_format())\n",
        "if K.image_data_format() == 'channels_first':\n",
        "  # 1次元配列に変換\n",
        "  x_train = x_train.reshape(s_train.shape[0], 1, img_rows, img_cols)\n",
        "  x_test = x_test.reshape(x_test.shape[0], 1, img_rows, img_cols)\n",
        "  input_shape = (1, img_rows, img_cols)\n",
        "\n",
        "else:\n",
        "  # 1次元配列に変換\n",
        "  x_train = x_train.reshape(x_train.shape[0], img_rows, img_cols, 1)\n",
        "  x_test = x_test.reshape(x_test.shape[0], img_rows, img_cols, 1)\n",
        "  input_shape = (img_rows, img_cols, 1)\n",
        "  \n",
        "# 入力データ[0, 1]の範囲に正規化\n",
        "x_train = x_train.astype('float32')\n",
        "x_test = x_test.astype('float32')\n",
        "# 255で割ったものを新たに変数とする->画素の最大が255なので、255で割ると[0, 1]になる\n",
        "x_train /= 255\n",
        "x_test /= 255\n",
        "\n",
        "print('x_train shape : ', x_train.shape)\n",
        "print(x_train.shape[0], 'train samples')\n",
        "print(x_test.shape[0], 'test samples')\n",
        "\n",
        "# ラベルをOne-Hotベクトルで表現\n",
        "\"\"\"\n",
        "追加分\n",
        "例えば、サンプルに対する元クラスが「1」の場合次のような形になります。\n",
        "[1, 0]\n",
        "例えば、サンプルに対する元クラスが「4」の場合次のような形になります。\n",
        "[0, 1]\n",
        "\"\"\"\n",
        "import numpy as np\n",
        "import tensorflow as tf\n",
        "num_classes = 2 # クラス数（奇数と偶数）\n",
        "# ↓奇数と偶数に分ける\n",
        "y_train_binary = np.zeros_like(y_train) #trainデータを入れるための行列を作成\n",
        "y_train_binary[y_train % 2 == 0] = 1 #y_trainが2で割り切れる番号に1を代入\n",
        "y_test_binary = np.zeros_like(y_test)\n",
        "y_test_binary[y_test % 2 == 0] = 1\n",
        "\n",
        "#One-Hotベクトルにしたデータをkerasが読み込める形に変換\n",
        "y_train = tf.keras.utils.to_categorical(y_train_binary, num_classes)\n",
        "y_test = tf.keras.utils.to_categorical(y_test_binary, num_classes)"
      ],
      "outputs": [
        {
          "output_type": "stream",
          "name": "stdout",
          "text": [
            "channels_last\n",
            "x_train shape :  (60000, 28, 28, 1)\n",
            "60000 train samples\n",
            "10000 test samples\n"
          ]
        }
      ],
      "metadata": {
        "id": "hw_h6CwnZ_8B",
        "colab": {
          "base_uri": "https://localhost:8080/"
        },
        "outputId": "dd3aa731-b5b9-4c20-ae03-ae9f771ecaf4"
      }
    },
    {
      "cell_type": "code",
      "execution_count": null,
      "source": [
        "from google.colab import drive\n",
        "drive.mount('/content/drive')"
      ],
      "outputs": [
        {
          "output_type": "stream",
          "name": "stdout",
          "text": [
            "Mounted at /content/drive\n"
          ]
        }
      ],
      "metadata": {
        "colab": {
          "base_uri": "https://localhost:8080/"
        },
        "id": "wp5xUGenToW_",
        "outputId": "b5e25314-030e-4a10-e4a1-ca19792760ee"
      }
    },
    {
      "cell_type": "code",
      "execution_count": null,
      "source": [
        "# sampling to make small data for lecture\n",
        "import numpy as np\n",
        "y_train_org = y_train\n",
        "x_train_org = x_train\n",
        "#trainデータとして使う数を指定\n",
        "N = 1000\n",
        "#inds = range(N)\n",
        "#データのインデックスの配列を作成->配列をシャッフル\n",
        "#->インデックスの配列の先頭からtrainに使う数だけデータ取り出し\n",
        "#こうすることで、全データからランダムでN個のデータを取り出すことができる\n",
        "inds = np.array(range(60000))\n",
        "np.random.shuffle(inds)\n",
        "inds = inds[:N]\n",
        "y_train = y_train[inds][:]\n",
        "x_train = x_train[inds][:]\n",
        "print(y_train.shape)"
      ],
      "outputs": [
        {
          "output_type": "stream",
          "name": "stdout",
          "text": [
            "(1000, 2)\n"
          ]
        }
      ],
      "metadata": {
        "id": "rLbg4nIPTVJe",
        "colab": {
          "base_uri": "https://localhost:8080/"
        },
        "outputId": "0e425cbd-c3c9-4ad8-c5c9-19e4463aaa21"
      }
    },
    {
      "cell_type": "code",
      "execution_count": null,
      "source": [
        "# CNNネットワークの構築\n",
        "model = Sequential()\n",
        "#addで層を追加する,↓だとconv2dを追加\n",
        "model.add(Conv2D(32, kernel_size=(3, 3),\n",
        "                activation='relu',\n",
        "                input_shape=input_shape)) # 3×3のカーネルサイズの2D Convolution layer\n",
        "model.add(Conv2D(64, (3, 3), activation='relu'))\n",
        "model.add(Conv2D(64, (3, 3), activation='relu'))\n",
        "#model.add(Conv2D(64, (3, 3), activation='relu')) # 演習問題１はここを編集：少なくする場合はコメントアウト、多くする場合はコピペして追加\n",
        "#model.add(Conv2D(64, (3, 3), activation='relu'))\n",
        "#model.add(Conv2D(64, (3, 3), activation='relu'))\n",
        "model.add(MaxPooling2D(pool_size=(2, 2))) # max pooling layer\n",
        "model.add(Flatten())\n",
        "model.add(Dense(128, activation='relu')) # 全結合層\n",
        "model.add(Dense(num_classes, activation='softmax'))\n",
        "\n",
        "# 損失関数,最適化関数,評価指標を指定してモデルをコンパイル->学習できる形にする\n",
        "model.compile(loss=keras.losses.categorical_crossentropy,\n",
        "             #optimizer=keras.optimizers.Adadelta(),\n",
        "             optimizer=tf.keras.optimizers.Adam(),\n",
        "             metrics=['accuracy'])\n",
        "\n",
        "# モデルの学習\n",
        "model.fit(x_train, y_train,\n",
        "         batch_size=batch_size,\n",
        "         epochs=epochs,\n",
        "         verbose=1,\n",
        "         validation_data=(x_test, y_test))"
      ],
      "outputs": [
        {
          "output_type": "stream",
          "name": "stdout",
          "text": [
            "Epoch 1/8\n",
            "8/8 [==============================] - 17s 2s/step - loss: 0.5270 - accuracy: 0.7260 - val_loss: 0.3908 - val_accuracy: 0.8285\n",
            "Epoch 2/8\n",
            "8/8 [==============================] - 16s 2s/step - loss: 0.3487 - accuracy: 0.8460 - val_loss: 0.3273 - val_accuracy: 0.8491\n",
            "Epoch 3/8\n",
            "8/8 [==============================] - 16s 2s/step - loss: 0.2445 - accuracy: 0.9070 - val_loss: 0.2334 - val_accuracy: 0.9015\n",
            "Epoch 4/8\n",
            "8/8 [==============================] - 16s 2s/step - loss: 0.1774 - accuracy: 0.9380 - val_loss: 0.1583 - val_accuracy: 0.9402\n",
            "Epoch 5/8\n",
            "8/8 [==============================] - 16s 2s/step - loss: 0.1020 - accuracy: 0.9710 - val_loss: 0.1359 - val_accuracy: 0.9505\n",
            "Epoch 6/8\n",
            "8/8 [==============================] - 16s 2s/step - loss: 0.0764 - accuracy: 0.9750 - val_loss: 0.1176 - val_accuracy: 0.9593\n",
            "Epoch 7/8\n",
            "8/8 [==============================] - 16s 2s/step - loss: 0.0542 - accuracy: 0.9820 - val_loss: 0.1046 - val_accuracy: 0.9614\n",
            "Epoch 8/8\n",
            "8/8 [==============================] - 17s 2s/step - loss: 0.0285 - accuracy: 0.9940 - val_loss: 0.1047 - val_accuracy: 0.9630\n"
          ]
        },
        {
          "output_type": "execute_result",
          "data": {
            "text/plain": [
              "<keras.callbacks.History at 0x7fe5f1259510>"
            ]
          },
          "metadata": {},
          "execution_count": 4
        }
      ],
      "metadata": {
        "id": "wU2PvVIWS104",
        "colab": {
          "base_uri": "https://localhost:8080/"
        },
        "outputId": "557be29d-029f-4e1c-b782-560d521300fe"
      }
    },
    {
      "cell_type": "code",
      "execution_count": null,
      "source": [
        "import matplotlib.pyplot as plt\n",
        "# 学習をグラフ化（正解率）\n",
        "print(model.history.history)\n",
        "acc = model.history.history['accuracy']\n",
        "val_acc = model.history.history['val_accuracy']\n",
        "\n",
        "# Accuracy Plot\n",
        "# epochごとのtrainデータ、testデータの精度をplot\n",
        "plt.plot(acc)\n",
        "plt.plot(val_acc)\n",
        "plt.title('Accuracy')\n",
        "plt.legend(['train', 'test'], loc='upper left')\n",
        "plt.show()\n",
        "\n",
        "# Loss Plot\n",
        "# epochごとのtrainデータ、testデータのlossをplot\n",
        "loss = model.history.history['loss']\n",
        "val_loss = model.history.history['val_loss']\n",
        "plt.plot(loss ,label = 'training loss')\n",
        "plt.plot(val_loss, label= 'validation loss')\n",
        "plt.title('Training and Validation loss')\n",
        "plt.legend()\n",
        "plt.show()"
      ],
      "outputs": [
        {
          "output_type": "stream",
          "name": "stdout",
          "text": [
            "{'loss': [0.5269553065299988, 0.3486751914024353, 0.24453823268413544, 0.1774156391620636, 0.10199049860239029, 0.07639723271131516, 0.054186008870601654, 0.028511354699730873], 'accuracy': [0.7260000109672546, 0.8460000157356262, 0.9070000052452087, 0.9380000233650208, 0.9710000157356262, 0.9750000238418579, 0.9819999933242798, 0.9940000176429749], 'val_loss': [0.3907621502876282, 0.3273388743400574, 0.23341931402683258, 0.15826469659805298, 0.13585753738880157, 0.1175856962800026, 0.1045590341091156, 0.10470856726169586], 'val_accuracy': [0.828499972820282, 0.8490999937057495, 0.9014999866485596, 0.9401999711990356, 0.9505000114440918, 0.9592999815940857, 0.9613999724388123, 0.9629999995231628]}\n"
          ]
        },
        {
          "output_type": "display_data",
          "data": {
            "image/png": "[encoded data removed]",
            "text/plain": [
              "<Figure size 432x288 with 1 Axes>"
            ]
          },
          "metadata": {
            "needs_background": "light"
          }
        },
        {
          "output_type": "display_data",
          "data": {
            "image/png": "[encoded data removed]",
            "text/plain": [
              "<Figure size 432x288 with 1 Axes>"
            ]
          },
          "metadata": {
            "needs_background": "light"
          }
        }
      ],
      "metadata": {
        "id": "ybscRk1ghYuX",
        "colab": {
          "base_uri": "https://localhost:8080/",
          "height": 583
        },
        "outputId": "54e4f789-3dc1-42af-b427-e2c63fb435b0"
      }
    },
    {
      "cell_type": "code",
      "execution_count": null,
      "source": [
        "# モデルの評価\n",
        "score = model.evaluate(x_test, y_test, verbose=0)\n",
        "print('Test loss:', score[0])\n",
        "print('Test accuracy:', score[1])"
      ],
      "outputs": [
        {
          "output_type": "stream",
          "name": "stdout",
          "text": [
            "Test loss: 0.10470853000879288\n",
            "Test accuracy: 0.9629999995231628\n"
          ]
        }
      ],
      "metadata": {
        "colab": {
          "base_uri": "https://localhost:8080/"
        },
        "id": "Un6Osq6cl7sU",
        "outputId": "212d59a4-7f87-42a4-dd64-a97f7202ac00"
      }
    },
    {
      "cell_type": "code",
      "execution_count": null,
      "source": [
        "# モデルの概要を表示\n",
        "model.summary()\n",
        "    \n",
        "# 概要を画像に出力\n",
        "#plot_model(model, to_file='model.png')"
      ],
      "outputs": [
        {
          "output_type": "stream",
          "name": "stdout",
          "text": [
            "Model: \"sequential_1\"\n",
            "_________________________________________________________________\n",
            "Layer (type)                 Output Shape              Param #   \n",
            "=================================================================\n",
            "conv2d_3 (Conv2D)            (None, 26, 26, 32)        320       \n",
            "_________________________________________________________________\n",
            "conv2d_4 (Conv2D)            (None, 24, 24, 64)        18496     \n",
            "_________________________________________________________________\n",
            "conv2d_5 (Conv2D)            (None, 22, 22, 64)        36928     \n",
            "_________________________________________________________________\n",
            "max_pooling2d_1 (MaxPooling2 (None, 11, 11, 64)        0         \n",
            "_________________________________________________________________\n",
            "flatten_1 (Flatten)          (None, 7744)              0         \n",
            "_________________________________________________________________\n",
            "dense_2 (Dense)              (None, 128)               991360    \n",
            "_________________________________________________________________\n",
            "dense_3 (Dense)              (None, 10)                1290      \n",
            "=================================================================\n",
            "Total params: 1,048,394\n",
            "Trainable params: 1,048,394\n",
            "Non-trainable params: 0\n",
            "_________________________________________________________________\n"
          ]
        }
      ],
      "metadata": {
        "id": "drm6LLW4dN4H",
        "colab": {
          "base_uri": "https://localhost:8080/"
        },
        "outputId": "7b811c88-36fb-491b-931e-ac6aac86b551"
      }
    },
    {
      "cell_type": "code",
      "execution_count": null,
      "source": [
        "# 1つのサンプルデータを用いてテスト\n",
        "from skimage import io\n",
        "import numpy as np\n",
        "import random\n",
        "# test dataをランダムに取得\n",
        "ind = np.int16(np.round(random.random()*x_test.shape[0]))\n",
        "print(ind)\n",
        "x_sample = x_test[ind]\n",
        "y_sample = y_test[ind]\n",
        "\n",
        "# 画像を可視化\n",
        "x_sample2 = x_sample.reshape(x_sample.shape[0], x_sample.shape[1])\n",
        "print(y_sample)\n",
        "io.imshow(x_sample2)\n",
        "#plt.show()\n",
        "\n",
        "# 予測関数入力用に変形\n",
        "x_sample = x_sample.reshape(1, img_rows, img_cols, 1)\n",
        "\n",
        "# ネットワークによる予測\n",
        "expect = model.predict(x_sample)\n",
        "print(np.round(expect))"
      ],
      "outputs": [
        {
          "output_type": "stream",
          "name": "stdout",
          "text": [
            "1845\n",
            "[1. 0.]\n",
            "[[1. 0.]]\n"
          ]
        },
        {
          "output_type": "display_data",
          "data": {
            "image/png": "[encoded data removed]",
            "text/plain": [
              "<Figure size 432x288 with 1 Axes>"
            ]
          },
          "metadata": {
            "needs_background": "light"
          }
        }
      ],
      "metadata": {
        "id": "Br9g2kiRszY_",
        "colab": {
          "base_uri": "https://localhost:8080/",
          "height": 351
        },
        "outputId": "d9cb9d23-3e75-4d95-d268-ef48e2a800ab"
      }
    }
  ]
}