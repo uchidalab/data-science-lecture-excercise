{
 "cells": [
  {
   "cell_type": "code",
   "execution_count": 1,
   "metadata": {
    "colab": {
     "base_uri": "https://localhost:8080/",
     "height": 34
    },
    "colab_type": "code",
    "executionInfo": {
     "elapsed": 759,
     "status": "ok",
     "timestamp": 1565567267802,
     "user": {
      "displayName": "竜馬備瀬",
      "photoUrl": "",
      "userId": "17932567482837919211"
     },
     "user_tz": -540
    },
    "id": "xwV01NItfbiJ",
    "outputId": "99edea8d-2c46-4db7-84fb-f2245be10576"
   },
   "outputs": [
    {
     "name": "stdout",
     "output_type": "stream",
     "text": [
      "Hello World\n"
     ]
    }
   ],
   "source": [
    "print(\"Hello World\")"
   ]
  },
  {
   "cell_type": "code",
   "execution_count": 2,
   "metadata": {
    "colab": {
     "base_uri": "https://localhost:8080/",
     "height": 140
    },
    "colab_type": "code",
    "executionInfo": {
     "elapsed": 881,
     "status": "ok",
     "timestamp": 1565567320883,
     "user": {
      "displayName": "竜馬備瀬",
      "photoUrl": "",
      "userId": "17932567482837919211"
     },
     "user_tz": -540
    },
    "id": "mJCOvE86fjMa",
    "outputId": "55e3adea-f4c2-446b-d9b2-37078c720194"
   },
   "outputs": [
    {
     "name": "stdout",
     "output_type": "stream",
     "text": [
      "3\n",
      "3\n",
      "30\n",
      "-6\n",
      "2.5\n",
      "2.0\n",
      "-15\n"
     ]
    }
   ],
   "source": [
    "# 四則演算\n",
    "# 足し算\n",
    "print(1+2)\n",
    "\n",
    "# 引き算\n",
    "print(5-2)\n",
    "\n",
    "# 掛け算\n",
    "print(5*6)\n",
    "print(-3*2)\n",
    "\n",
    "# 割り算\n",
    "print(5/2)\n",
    "print(4/2)\n",
    "\n",
    "# 括弧\n",
    "print((1-4)*5)"
   ]
  },
  {
   "cell_type": "code",
   "execution_count": 3,
   "metadata": {
    "colab": {
     "base_uri": "https://localhost:8080/",
     "height": 158
    },
    "colab_type": "code",
    "executionInfo": {
     "elapsed": 661,
     "status": "ok",
     "timestamp": 1565567415950,
     "user": {
      "displayName": "竜馬備瀬",
      "photoUrl": "",
      "userId": "17932567482837919211"
     },
     "user_tz": -540
    },
    "id": "LR4TTVS4ie-x",
    "outputId": "2ba9f3c1-0876-4e46-db9e-5d4d622d8fe4"
   },
   "outputs": [
    {
     "name": "stdout",
     "output_type": "stream",
     "text": [
      "5\n",
      "Monday\n",
      "8\n",
      "2\n",
      "5\n",
      "3\n",
      "8\n",
      "30\n"
     ]
    }
   ],
   "source": [
    "# 変数\n",
    "a=5\n",
    "print(a)\n",
    "b=\"Monday\" # 文字列でもOK!\n",
    "print(b)\n",
    "\n",
    "a=5\n",
    "b=3\n",
    "print(a+b)\n",
    "print(a-b)\n",
    "print(a)\n",
    "a=b\n",
    "print(a)\n",
    "\n",
    "a=5\n",
    "b=3\n",
    "print(a+b)\n",
    "\n",
    "a = 20\n",
    "b = 10\n",
    "print(a + b)"
   ]
  }
 ],
 "metadata": {
  "colab": {
   "collapsed_sections": [],
   "name": "introduction.ipynb",
   "provenance": [],
   "version": "0.3.2"
  },
  "kernelspec": {
   "display_name": "Python 3",
   "language": "python",
   "name": "python3"
  },
  "language_info": {
   "codemirror_mode": {
    "name": "ipython",
    "version": 3
   },
   "file_extension": ".py",
   "mimetype": "text/x-python",
   "name": "python",
   "nbconvert_exporter": "python",
   "pygments_lexer": "ipython3",
   "version": "3.7.0"
  }
 },
 "nbformat": 4,
 "nbformat_minor": 1
}
