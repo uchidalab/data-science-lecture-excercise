{
 "cells": [
  {
   "cell_type": "code",
   "execution_count": 1,
   "metadata": {
    "colab": {
     "base_uri": "https://localhost:8080/",
     "height": 175
    },
    "colab_type": "code",
    "executionInfo": {
     "elapsed": 755,
     "status": "ok",
     "timestamp": 1565577532055,
     "user": {
      "displayName": "竜馬備瀬",
      "photoUrl": "",
      "userId": "17932567482837919211"
     },
     "user_tz": -540
    },
    "id": "3cyLsihJlHVB",
    "outputId": "b1a07756-99b0-4310-f8aa-dbdb99d8e0e3"
   },
   "outputs": [
    {
     "name": "stdout",
     "output_type": "stream",
     "text": [
      "62\n",
      "1.7\n",
      "21.453287197231838\n",
      "75\n",
      "1.6\n",
      "29.296874999999993\n",
      "73\n",
      "1.8\n",
      "22.530864197530864\n"
     ]
    }
   ],
   "source": [
    "import numpy as np\n",
    "\n",
    "####################################\n",
    "# 演習１\n",
    "#変数を使ってBMIを計算するコードを書いてみよう\n",
    "#  ヒント：BMI は 体重 ÷ (身長×身長)\n",
    "#※)体重は kg, 身長は m\n",
    "#変数の値を変えて、それぞれ計算してみよう\n",
    "#A君：1.7m, 62kg\n",
    "#B君：1.6m, 75kg\n",
    "#C君：1.8m, 73kg\n",
    "\n",
    "# A君\n",
    "weight=62\n",
    "height=1.7\n",
    "BMI=weight/(height*height)\n",
    "print( weight )\n",
    "print( height )\n",
    "print( BMI )\n",
    "\n",
    "# B君\n",
    "weight=75\n",
    "height=1.6\n",
    "BMI=weight/(height*height)\n",
    "print( weight )\n",
    "print( height )\n",
    "print( BMI )\n",
    "\n",
    "# C君\n",
    "weight=73\n",
    "height=1.8\n",
    "BMI=weight/(height*height)\n",
    "print( weight )\n",
    "print( height )\n",
    "print( BMI )"
   ]
  },
  {
   "cell_type": "code",
   "execution_count": 3,
   "metadata": {
    "colab": {
     "base_uri": "https://localhost:8080/",
     "height": 334
    },
    "colab_type": "code",
    "executionInfo": {
     "elapsed": 640,
     "status": "ok",
     "timestamp": 1565577537284,
     "user": {
      "displayName": "竜馬備瀬",
      "photoUrl": "",
      "userId": "17932567482837919211"
     },
     "user_tz": -540
    },
    "id": "MbsaGKa_lVmN",
    "outputId": "7a8f2894-ea57-454a-c5b2-260a7c98ec18"
   },
   "outputs": [
    {
     "name": "stdout",
     "output_type": "stream",
     "text": [
      "62\n",
      "1.7\n",
      "21.453287197231838\n",
      "21.0\n",
      "21\n",
      "22\n",
      "75\n",
      "1.6\n",
      "29.296874999999993\n",
      "29.0\n",
      "29\n",
      "30\n",
      "73\n",
      "1.8\n",
      "22.530864197530864\n",
      "23.0\n",
      "22\n",
      "23\n"
     ]
    }
   ],
   "source": [
    "####################################\n",
    "# 演習2 \n",
    "#求めたBMIを四捨五入してみよう\n",
    "#  ヒント：round\n",
    "#求めたBMIを切り捨ててみよう\n",
    "#　ヒント：「python 切り捨て」でGoogleで検索\n",
    "#求めたBMIを切り上げてみよう\n",
    "#変数の値を変えて、それぞれ計算してみよう\n",
    "#A君：1.7m, 62kg\n",
    "#B君：1.6m, 75kg\n",
    "#C君：1.8m, 73kg\n",
    "\n",
    "# A君\n",
    "weight=62\n",
    "height=1.7\n",
    "BMI=weight/(height*height)\n",
    "print( weight )\n",
    "print( height )\n",
    "print( BMI )\n",
    "#求めたBMIを四捨五入してみよう\n",
    "print( np.round(BMI) )\n",
    "#求めたBMIを切り捨ててみよう\n",
    "import math\n",
    "print( math.floor(BMI) )\n",
    "#求めたBMIを切り上げてみよう\n",
    "print( math.ceil(BMI) )\n",
    "\n",
    "# B君\n",
    "weight=75\n",
    "height=1.6\n",
    "BMI=weight/(height*height)\n",
    "print( weight )\n",
    "print( height )\n",
    "print( BMI )\n",
    "#求めたBMIを四捨五入してみよう\n",
    "print( np.round(BMI) )\n",
    "#求めたBMIを切り捨ててみよう\n",
    "print( math.floor(BMI) )\n",
    "#求めたBMIを切り上げてみよう\n",
    "print( math.ceil(BMI) )\n",
    "\n",
    "# C君\n",
    "weight=73\n",
    "height=1.8\n",
    "BMI=weight/(height*height)\n",
    "print( weight )\n",
    "print( height )\n",
    "print( BMI )\n",
    "#求めたBMIを四捨五入してみよう\n",
    "print( np.round(BMI) )\n",
    "#求めたBMIを切り捨ててみよう\n",
    "print( math.floor(BMI) )\n",
    "#求めたBMIを切り上げてみよう\n",
    "print( math.ceil(BMI) )\n"
   ]
  },
  {
   "cell_type": "code",
   "execution_count": 1,
   "metadata": {},
   "outputs": [
    {
     "name": "stdout",
     "output_type": "stream",
     "text": [
      "a の中身は5\n"
     ]
    }
   ],
   "source": [
    "####################################\n",
    "# 演習3\n",
    "# print文の応用\n",
    "#変数aに5を代入して、\n",
    "#print文で「aの中身は5です。」と表示してみよう。\n",
    "#ヒント）「print format python」で検索\n",
    "a = 5\n",
    "print(\"a の中身は{}\".format(a))\n"
   ]
  },
  {
   "cell_type": "code",
   "execution_count": 9,
   "metadata": {},
   "outputs": [
    {
     "name": "stdout",
     "output_type": "stream",
     "text": [
      "A君のBMIは21.0\n",
      "B君のBMIは29.0\n",
      "C君のBMIは23.0\n"
     ]
    }
   ],
   "source": [
    "####################################\n",
    "# 演習4\n",
    "#演習４で作成したエディタファイルに以下のprint文を追加してまとめて実行してみよう。\n",
    "#「A君のBMIはxxxです。」と表示\n",
    "#「B君のBMIはxxxです。」と表示\n",
    "#「C君のBMIはxxxです。」と表示\n",
    "#※）xxxの部分はそれぞれ計算したBMIが入る\n",
    "import numpy as np\n",
    "\n",
    "# A君\n",
    "weight=62\n",
    "height=1.7\n",
    "BMI=weight/(height*height)\n",
    "#print(\"BMI is {}\".format(np.round(BMI)))\n",
    "print(\"A君のBMIは{}\".format(np.round(BMI)))\n",
    "\n",
    "# B君\n",
    "weight=75\n",
    "height=1.6\n",
    "BMI=weight/(height*height)\n",
    "print(\"B君のBMIは{}\".format(np.round(BMI)))\n",
    "\n",
    "# C君\n",
    "weight=73\n",
    "height=1.8\n",
    "BMI=weight/(height*height)\n",
    "print(\"C君のBMIは{}\".format(np.round(BMI)))\n"
   ]
  }
 ],
 "metadata": {
  "colab": {
   "name": "introduction_excercise.ipynb",
   "provenance": [],
   "version": "0.3.2"
  },
  "kernelspec": {
   "display_name": "Python 3",
   "language": "python",
   "name": "python3"
  },
  "language_info": {
   "codemirror_mode": {
    "name": "ipython",
    "version": 3
   },
   "file_extension": ".py",
   "mimetype": "text/x-python",
   "name": "python",
   "nbconvert_exporter": "python",
   "pygments_lexer": "ipython3",
   "version": "3.7.0"
  }
 },
 "nbformat": 4,
 "nbformat_minor": 1
}
