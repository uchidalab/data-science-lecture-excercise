{
 "cells": [
  {
   "cell_type": "code",
   "execution_count": 1,
   "metadata": {
    "colab": {
     "base_uri": "https://localhost:8080/",
     "height": 34
    },
    "colab_type": "code",
    "executionInfo": {
     "elapsed": 782,
     "status": "ok",
     "timestamp": 1565567362025,
     "user": {
      "displayName": "竜馬備瀬",
      "photoUrl": "",
      "userId": "17932567482837919211"
     },
     "user_tz": -540
    },
    "id": "wo-8mXdOf8pj",
    "outputId": "16742477-23fe-4ba4-f7ca-1549c314edda"
   },
   "outputs": [
    {
     "name": "stdout",
     "output_type": "stream",
     "text": [
      "Data Science\n"
     ]
    }
   ],
   "source": [
    "# 練習１\n",
    "# 好きな言葉を“ ”に入れて表示させよう\n",
    "# print “ ” と入力\n",
    "print(\"Data Science\")"
   ]
  },
  {
   "cell_type": "code",
   "execution_count": 2,
   "metadata": {
    "colab": {
     "base_uri": "https://localhost:8080/",
     "height": 34
    },
    "colab_type": "code",
    "executionInfo": {
     "elapsed": 766,
     "status": "ok",
     "timestamp": 1565567362032,
     "user": {
      "displayName": "竜馬備瀬",
      "photoUrl": "",
      "userId": "17932567482837919211"
     },
     "user_tz": -540
    },
    "id": "tDO5M6VpkPiy",
    "outputId": "08cd318e-6ca3-4b62-bac8-db771a225e81"
   },
   "outputs": [
    {
     "data": {
      "text/plain": [
       "900"
      ]
     },
     "execution_count": 2,
     "metadata": {
      "tags": []
     },
     "output_type": "execute_result"
    }
   ],
   "source": [
    "# 練習2-1\n",
    "# A君が八百屋で100円のリンゴを5個と400円のイチゴを買いました。\n",
    "# 合計にいくらになるかプログラムで計算させてみよう！\n",
    "100*5 + 400\n"
   ]
  },
  {
   "cell_type": "code",
   "execution_count": 3,
   "metadata": {
    "colab": {
     "base_uri": "https://localhost:8080/",
     "height": 34
    },
    "colab_type": "code",
    "executionInfo": {
     "elapsed": 674,
     "status": "ok",
     "timestamp": 1565567431495,
     "user": {
      "displayName": "竜馬備瀬",
      "photoUrl": "",
      "userId": "17932567482837919211"
     },
     "user_tz": -540
    },
    "id": "5iO9Lm_PkPoZ",
    "outputId": "7804f9eb-a81c-42c0-92b8-86fa68da2950"
   },
   "outputs": [
    {
     "data": {
      "text/plain": [
       "19.841269841269845"
      ]
     },
     "execution_count": 3,
     "metadata": {
      "tags": []
     },
     "output_type": "execute_result"
    }
   ],
   "source": [
    "# 練習2-2\n",
    "# BMI をプログラムで計算してみよう\n",
    "#  ヒント：BMI は 体重 ÷ (身長×身長)\n",
    "#※体重は kg, 身長は m\n",
    "56/(1.68*1.68)"
   ]
  },
  {
   "cell_type": "code",
   "execution_count": 0,
   "metadata": {
    "colab": {
     "base_uri": "https://localhost:8080/",
     "height": 68
    },
    "colab_type": "code",
    "executionInfo": {
     "elapsed": 627,
     "status": "ok",
     "timestamp": 1565508363881,
     "user": {
      "displayName": "竜馬備瀬",
      "photoUrl": "",
      "userId": "17932567482837919211"
     },
     "user_tz": -540
    },
    "id": "11mi1z79kPss",
    "outputId": "ffbbb515-7df3-4f89-b284-4fd6a74c1b7b"
   },
   "outputs": [
    {
     "name": "stdout",
     "output_type": "stream",
     "text": [
      "56\n",
      "1.68\n",
      "19.841269841269845\n"
     ]
    }
   ],
   "source": [
    "# 練習3\n",
    "#変数を使って、BMI をプログラムで計算してみよう\n",
    "#  ヒント：BMI は 体重 ÷ (身長×身長)\n",
    "#\t　　weight = 自分の体重\n",
    "#\t　　height = 自分の身長\n",
    "weight=56\n",
    "height=1.68\n",
    "BMI=weight/(height*height)\n",
    "print( weight )\n",
    "print( height )\n",
    "print( BMI )"
   ]
  },
  {
   "cell_type": "code",
   "execution_count": 4,
   "metadata": {
    "colab": {
     "base_uri": "https://localhost:8080/",
     "height": 105
    },
    "colab_type": "code",
    "executionInfo": {
     "elapsed": 701,
     "status": "ok",
     "timestamp": 1565567580942,
     "user": {
      "displayName": "竜馬備瀬",
      "photoUrl": "",
      "userId": "17932567482837919211"
     },
     "user_tz": -540
    },
    "id": "n2KyMRkBkPvs",
    "outputId": "7d87594b-e9cd-4e1b-e661-5290bef2dd59"
   },
   "outputs": [
    {
     "name": "stdout",
     "output_type": "stream",
     "text": [
      "9.0\n",
      "16.0\n",
      "9.0\n",
      "10.0\n",
      "5\n"
     ]
    }
   ],
   "source": [
    "# 練習4: 関数の利用\n",
    "# 練習4-1\n",
    "#関数を使って計算しよう！\n",
    "#81の平方根を計算しよう\n",
    "#256の平方根を計算しよう\n",
    "#9.4を四捨五入しよう\n",
    "#9.7を四捨五入しよう\n",
    "\n",
    "import math\n",
    "print(math.sqrt(81))\n",
    "print(math.sqrt(256))\n",
    "\n",
    "import numpy as np\n",
    "print(np.round(9.4))\n",
    "print(np.round(9.7))\n",
    "\n",
    "# 練習4-1\n",
    "#自分で関数をWebで調べて使ってみよう！\n",
    "#絶対値を求める関数を調べてみよう\n",
    "#-5の絶対値を関数を使って計算しよう\n",
    "print(np.abs(-5))\n"
   ]
  }
 ],
 "metadata": {
  "colab": {
   "collapsed_sections": [],
   "name": "introduction_shortexcecise.ipynb",
   "provenance": [],
   "version": "0.3.2"
  },
  "kernelspec": {
   "display_name": "Python 3",
   "language": "python",
   "name": "python3"
  },
  "language_info": {
   "codemirror_mode": {
    "name": "ipython",
    "version": 3
   },
   "file_extension": ".py",
   "mimetype": "text/x-python",
   "name": "python",
   "nbconvert_exporter": "python",
   "pygments_lexer": "ipython3",
   "version": "3.7.0"
  }
 },
 "nbformat": 4,
 "nbformat_minor": 1
}
