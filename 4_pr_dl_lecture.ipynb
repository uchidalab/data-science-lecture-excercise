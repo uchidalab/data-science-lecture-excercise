{
  "nbformat": 4,
  "nbformat_minor": 0,
  "metadata": {
    "colab": {
      "name": "MNIST.ipynb",
      "provenance": [],
      "collapsed_sections": []
    },
    "kernelspec": {
      "display_name": "Python 3",
      "language": "python",
      "name": "python3"
    },
    "language_info": {
      "codemirror_mode": {
        "name": "ipython",
        "version": 3
      },
      "file_extension": ".py",
      "mimetype": "text/x-python",
      "name": "python",
      "nbconvert_exporter": "python",
      "pygments_lexer": "ipython3",
      "version": "3.7.6"
    },
    "accelerator": "GPU"
  },
  "cells": [
    {
      "cell_type": "code",
      "metadata": {
        "colab": {
          "base_uri": "https://localhost:8080/"
        },
        "id": "hw_h6CwnZ_8B",
        "outputId": "4eaa7e49-163c-4dc3-9e2f-0dac3b5d63cf"
      },
      "source": [
        "import keras\n",
        "import tensorflow as tf\n",
        "from keras.datasets import mnist\n",
        "from keras.models import Sequential\n",
        "from keras.layers import Dense, Dropout, Flatten\n",
        "from keras.layers import Conv2D, MaxPooling2D\n",
        "from keras import backend as K\n",
        "batch_size = 128\n",
        "num_classes = 10 # 0～9までの手書き文字\n",
        "epochs = 4 # 訓練データを何回繰り返して学習させるのか\n",
        "\n",
        "img_rows, img_cols = 28, 28\n",
        "\n",
        "# 学習データとテストデータに分割したデータ\n",
        "(x_train, y_train), (x_test, y_test) = mnist.load_data()\n",
        "\n",
        "# backendがTensorflowとTheanoで配列のshapeが異なるために2パターン記述\n",
        "print(K.image_data_format())\n",
        "if K.image_data_format() == 'channels_first':\n",
        "  # 1次元配列に変換\n",
        "  x_train = x_train.reshape(s_train.shape[0], 1, img_rows, img_cols)\n",
        "  x_test = x_test.reshape(x_test.shape[0], 1, img_rows, img_cols)\n",
        "  input_shape = (1, img_rows, img_cols)\n",
        "\n",
        "else:\n",
        "  # 1次元配列に変換\n",
        "  x_train = x_train.reshape(x_train.shape[0], img_rows, img_cols, 1)\n",
        "  x_test = x_test.reshape(x_test.shape[0], img_rows, img_cols, 1)\n",
        "  input_shape = (img_rows, img_cols, 1)\n",
        "  \n",
        "# 入力データ[0, 1]の範囲に正規化\n",
        "x_train = x_train.astype('float32')\n",
        "x_test = x_test.astype('float32')\n",
        "# 255で割ったものを新たに変数とする\n",
        "x_train /= 255\n",
        "x_test /= 255\n",
        "\n",
        "print('x_train shape : ', x_train.shape)\n",
        "print(x_train.shape[0], 'train samples')\n",
        "print(x_test.shape[0], 'test samples')\n",
        "\n",
        "# ラベルをOne-Hotベクトルで表現\n",
        "\"\"\"\n",
        "例えば、サンプルに対するターゲットが「5」の場合次のような形になります。\n",
        "[0, 1, 2, 3, 4, 5, 6, 7, 8, 9]\n",
        "[0, 0, 0, 0, 0, 1, 0, 0, 0, 0]\n",
        "\"\"\"\n",
        "y_train = tf.keras.utils.to_categorical(y_train, num_classes)\n",
        "y_test = tf.keras.utils.to_categorical(y_test, num_classes)\n",
        "\n",
        "print(x_train.shape)\n",
        "print(y_train.shape)"
      ],
      "execution_count": 1,
      "outputs": [
        {
          "output_type": "stream",
          "name": "stdout",
          "text": [
            "Downloading data from https://storage.googleapis.com/tensorflow/tf-keras-datasets/mnist.npz\n",
            "11493376/11490434 [==============================] - 0s 0us/step\n",
            "11501568/11490434 [==============================] - 0s 0us/step\n",
            "channels_last\n",
            "x_train shape :  (60000, 28, 28, 1)\n",
            "60000 train samples\n",
            "10000 test samples\n",
            "(60000, 28, 28, 1)\n",
            "(60000, 10)\n"
          ]
        }
      ]
    },
    {
      "cell_type": "code",
      "metadata": {
        "colab": {
          "base_uri": "https://localhost:8080/"
        },
        "id": "wp5xUGenToW_",
        "outputId": "c0ab6eb9-5795-4ff5-8fff-63e8b199eff6"
      },
      "source": [
        "from google.colab import drive\n",
        "drive.mount('/content/drive')"
      ],
      "execution_count": 2,
      "outputs": [
        {
          "output_type": "stream",
          "name": "stdout",
          "text": [
            "Mounted at /content/drive\n"
          ]
        }
      ]
    },
    {
      "cell_type": "code",
      "metadata": {
        "colab": {
          "base_uri": "https://localhost:8080/"
        },
        "id": "rLbg4nIPTVJe",
        "outputId": "c17ccccd-760d-4c57-80a4-298b7ed0d135"
      },
      "source": [
        "# sampling to mak small data for lecture\n",
        "import numpy as np\n",
        "y_train_org = y_train\n",
        "x_train_org = x_train\n",
        "\n",
        "# 60000個から1000個をランダムにサンプリング\n",
        "N = 1000\n",
        "#inds = range(N)\n",
        "inds = np.array(range(60000))\n",
        "np.random.shuffle(inds)\n",
        "inds = inds[:N]\n",
        "y_train = y_train[inds][:]\n",
        "x_train = x_train[inds][:]\n",
        "print(y_train.shape)"
      ],
      "execution_count": 3,
      "outputs": [
        {
          "output_type": "stream",
          "name": "stdout",
          "text": [
            "(1000, 10)\n"
          ]
        }
      ]
    },
    {
      "cell_type": "code",
      "metadata": {
        "colab": {
          "base_uri": "https://localhost:8080/"
        },
        "id": "wU2PvVIWS104",
        "outputId": "9d8498b6-6ba6-4cdf-bb82-c3180a21e7b8"
      },
      "source": [
        "# CNNネットワークの構築\n",
        "model = Sequential()\n",
        "model.add(Conv2D(32, kernel_size=(3, 3),\n",
        "                activation='relu',\n",
        "                input_shape=input_shape)) # 3×3のカーネルサイズの2D Convolution layer\n",
        "model.add(Conv2D(64, (3, 3), activation='relu'))\n",
        "model.add(Conv2D(64, (3, 3), activation='relu'))\n",
        "#model.add(Conv2D(64, (3, 3), activation='relu'))\n",
        "#model.add(Conv2D(64, (3, 3), activation='relu'))\n",
        "#model.add(Conv2D(64, (3, 3), activation='relu'))\n",
        "model.add(MaxPooling2D(pool_size=(2, 2))) # max pooling layer\n",
        "model.add(Flatten())\n",
        "model.add(Dense(128, activation='relu')) # 全結合層\n",
        "model.add(Dense(num_classes, activation='softmax'))\n",
        "\n",
        "# 損失関数,最適化関数,評価指標を指定してモデルをコンパイル\n",
        "model.compile(loss=keras.losses.categorical_crossentropy,\n",
        "             #optimizer=keras.optimizers.Adadelta(),\n",
        "             optimizer=tf.keras.optimizers.Adam(),\n",
        "             metrics=['accuracy'])\n",
        "\n",
        "# モデルの学習\n",
        "model.fit(x_train, y_train,\n",
        "         batch_size=batch_size,\n",
        "         epochs=epochs,\n",
        "         verbose=1,\n",
        "         validation_data=(x_test, y_test))"
      ],
      "execution_count": 4,
      "outputs": [
        {
          "output_type": "stream",
          "name": "stdout",
          "text": [
            "Epoch 1/4\n",
            "8/8 [==============================] - 32s 270ms/step - loss: 1.6814 - accuracy: 0.5240 - val_loss: 0.7251 - val_accuracy: 0.7685\n",
            "Epoch 2/4\n",
            "8/8 [==============================] - 1s 102ms/step - loss: 0.6560 - accuracy: 0.7960 - val_loss: 0.5189 - val_accuracy: 0.8477\n",
            "Epoch 3/4\n",
            "8/8 [==============================] - 1s 102ms/step - loss: 0.3842 - accuracy: 0.8850 - val_loss: 0.4433 - val_accuracy: 0.8648\n",
            "Epoch 4/4\n",
            "8/8 [==============================] - 1s 101ms/step - loss: 0.3149 - accuracy: 0.8960 - val_loss: 0.3878 - val_accuracy: 0.8799\n"
          ]
        },
        {
          "output_type": "execute_result",
          "data": {
            "text/plain": [
              "<keras.callbacks.History at 0x7fc94037a810>"
            ]
          },
          "metadata": {},
          "execution_count": 4
        }
      ]
    },
    {
      "cell_type": "code",
      "metadata": {
        "colab": {
          "base_uri": "https://localhost:8080/",
          "height": 582
        },
        "id": "ybscRk1ghYuX",
        "outputId": "421c87a5-9991-4db1-96c2-e24adc8bb2ba"
      },
      "source": [
        "import matplotlib.pyplot as plt\n",
        "# 学習をグラフ化（正解率）\n",
        "print(model.history.history)\n",
        "acc = model.history.history['accuracy']\n",
        "val_acc = model.history.history['val_accuracy']\n",
        "\n",
        "# Accuracy Plot\n",
        "plt.plot(acc)\n",
        "plt.plot(val_acc)\n",
        "plt.title('Accuracy')\n",
        "plt.legend(['train', 'test'], loc='upper left')\n",
        "plt.show()\n",
        "\n",
        "# Loss Plot\n",
        "loss = model.history.history['loss']\n",
        "val_loss = model.history.history['val_loss']\n",
        "plt.plot(loss ,label = 'training loss')\n",
        "plt.plot(val_loss, label= 'validation loss')\n",
        "plt.title('Training and Validation loss')\n",
        "plt.legend()\n",
        "plt.show()"
      ],
      "execution_count": 5,
      "outputs": [
        {
          "output_type": "stream",
          "name": "stdout",
          "text": [
            "{'loss': [1.6814043521881104, 0.6560326218605042, 0.3842330276966095, 0.3149268627166748], 'accuracy': [0.5239999890327454, 0.7960000038146973, 0.8849999904632568, 0.8960000276565552], 'val_loss': [0.7251490354537964, 0.5189098119735718, 0.44328731298446655, 0.38775312900543213], 'val_accuracy': [0.7684999704360962, 0.8476999998092651, 0.864799976348877, 0.8798999786376953]}\n"
          ]
        },
        {
          "output_type": "display_data",
          "data": {
            "image/png": "[encoded data removed]",
            "text/plain": [
              "<Figure size 432x288 with 1 Axes>"
            ]
          },
          "metadata": {
            "needs_background": "light"
          }
        },
        {
          "output_type": "display_data",
          "data": {
            "image/png": "[encoded data removed]",
            "text/plain": [
              "<Figure size 432x288 with 1 Axes>"
            ]
          },
          "metadata": {
            "needs_background": "light"
          }
        }
      ]
    },
    {
      "cell_type": "code",
      "metadata": {
        "colab": {
          "base_uri": "https://localhost:8080/"
        },
        "id": "Un6Osq6cl7sU",
        "outputId": "44c8e2fd-9f23-4ad7-939d-8fae8a5f6f28"
      },
      "source": [
        "# モデルの評価\n",
        "score = model.evaluate(x_test, y_test, verbose=0)\n",
        "print('Test loss:', score[0])\n",
        "print('Test accuracy:', score[1])"
      ],
      "execution_count": 6,
      "outputs": [
        {
          "output_type": "stream",
          "name": "stdout",
          "text": [
            "Test loss: 0.3877529203891754\n",
            "Test accuracy: 0.8798999786376953\n"
          ]
        }
      ]
    },
    {
      "cell_type": "code",
      "metadata": {
        "colab": {
          "base_uri": "https://localhost:8080/"
        },
        "id": "drm6LLW4dN4H",
        "outputId": "3ae120ed-e19b-4c86-d030-fbdde78bd269"
      },
      "source": [
        "# モデルの概要を表示\n",
        "model.summary()\n",
        "    \n",
        "# 概要を画像に出力\n",
        "#plot_model(model, to_file='model.png')"
      ],
      "execution_count": 7,
      "outputs": [
        {
          "output_type": "stream",
          "name": "stdout",
          "text": [
            "Model: \"sequential\"\n",
            "_________________________________________________________________\n",
            "Layer (type)                 Output Shape              Param #   \n",
            "=================================================================\n",
            "conv2d (Conv2D)              (None, 26, 26, 32)        320       \n",
            "_________________________________________________________________\n",
            "conv2d_1 (Conv2D)            (None, 24, 24, 64)        18496     \n",
            "_________________________________________________________________\n",
            "conv2d_2 (Conv2D)            (None, 22, 22, 64)        36928     \n",
            "_________________________________________________________________\n",
            "max_pooling2d (MaxPooling2D) (None, 11, 11, 64)        0         \n",
            "_________________________________________________________________\n",
            "flatten (Flatten)            (None, 7744)              0         \n",
            "_________________________________________________________________\n",
            "dense (Dense)                (None, 128)               991360    \n",
            "_________________________________________________________________\n",
            "dense_1 (Dense)              (None, 10)                1290      \n",
            "=================================================================\n",
            "Total params: 1,048,394\n",
            "Trainable params: 1,048,394\n",
            "Non-trainable params: 0\n",
            "_________________________________________________________________\n"
          ]
        }
      ]
    },
    {
      "cell_type": "code",
      "metadata": {
        "colab": {
          "base_uri": "https://localhost:8080/",
          "height": 349
        },
        "id": "Br9g2kiRszY_",
        "outputId": "76b49c9d-3db9-4bcd-f5a2-59e12998d604"
      },
      "source": [
        "# 1つのサンプルデータを用いてテスト\n",
        "from skimage import io\n",
        "import numpy as np\n",
        "import random\n",
        "# test dataをランダムに取得\n",
        "ind = np.int16(np.round(random.random()*x_test.shape[0]))\n",
        "print(ind)\n",
        "x_sample = x_test[ind]\n",
        "y_sample = y_test[ind]\n",
        "\n",
        "# 画像を可視化\n",
        "x_sample2 = x_sample.reshape(x_sample.shape[0], x_sample.shape[1])\n",
        "print(y_sample)\n",
        "io.imshow(x_sample2)\n",
        "#plt.show()\n",
        "\n",
        "# 予測関数入力用に変形\n",
        "x_sample = x_sample.reshape(1, img_rows, img_cols, 1)\n",
        "\n",
        "# ネットワークによる予測\n",
        "expect = model.predict(x_sample)\n",
        "print(np.round(expect))"
      ],
      "execution_count": 8,
      "outputs": [
        {
          "output_type": "stream",
          "name": "stdout",
          "text": [
            "6373\n",
            "[0. 0. 0. 0. 1. 0. 0. 0. 0. 0.]\n",
            "[[0. 0. 0. 0. 1. 0. 0. 0. 0. 0.]]\n"
          ]
        },
        {
          "output_type": "display_data",
          "data": {
            "image/png": "[encoded data removed]",
            "text/plain": [
              "<Figure size 432x288 with 1 Axes>"
            ]
          },
          "metadata": {
            "needs_background": "light"
          }
        }
      ]
    }
  ]
}